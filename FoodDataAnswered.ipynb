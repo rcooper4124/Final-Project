{
 "cells": [
  {
   "cell_type": "markdown",
   "id": "45995852-382c-4c50-91a1-369307831419",
   "metadata": {},
   "source": [
    "# "
   ]
  },
  {
   "cell_type": "markdown",
   "id": "12f68963-c0b0-4526-ac6b-7c4911963084",
   "metadata": {},
   "source": [
    "Ryan Cooper 4/29/25"
   ]
  },
  {
   "cell_type": "markdown",
   "id": "cbfc169a-18fa-4e31-8dc2-704ce47edf2e",
   "metadata": {},
   "source": [
    "1. Did your exploratory analysis from last week highlight anything that needs to be cleaned?\n",
    "There was 2 thingsw I wanted to clean, the restaurant column and the salad column."
   ]
  },
  {
   "cell_type": "markdown",
   "id": "db02aa30-0058-46ab-a5e3-90360b410516",
   "metadata": {},
   "source": [
    "2. Investigate any NaN's that you find. Should these be replaced with another value? If so, what would be the best value? Should that record be deleted instead?\n",
    "There were a couple NaN's under the vitamin a, b, and c columns. This data is fairly insignificant in regards to the questions I will be looking into, so I left the columns in and did not change the NaN's. One thing I noticed is that there is a salad category for all these restaurants. Half the restaurants do not have a salad option, and if the restaurant does it is only 1. The category also says \"other\" if something is not a salad. This column doesn't give any real information that can't be seen looking at the food item, so it was removed."
   ]
  },
  {
   "cell_type": "markdown",
   "id": "1952f9d5-5127-41b0-8f17-611b6e310b8d",
   "metadata": {},
   "source": [
    "3. Are there outliers to any of the data items? What could explain those outliers? Should those records be changed or deleted?\n",
    "At first when looking at the dataset, the calories column has a couple of extremely high items. But after looking into it the actual food that has these extreme amount of calories, is typically a party or family portion. An example of this is the Mcdonalds 20 piece Buttermilk Crispy Chicken Tenders, which has 2430 calories. "
   ]
  },
  {
   "cell_type": "markdown",
   "id": "7a11f259-4b7a-4698-8505-854b3d7b1513",
   "metadata": {},
   "source": [
    "4. Are the column names not in a format that makes it easy to refer to?\n",
    "All columns are easy to refer to for this study."
   ]
  },
  {
   "cell_type": "markdown",
   "id": "2b12c22d-afd2-404a-a169-e56be3f7322d",
   "metadata": {},
   "source": [
    "5. Do you need to split up a column's data into multiple columns or simplify its values?\n",
    "I had to split up my dataset into 8 different ones. This being all the 8 different restaurants in the original dataset (Mcdonalds, Chick Fil-A, Sonic, Arbys, Burger King, Dairy Queen, Subway, and Taco Bell)."
   ]
  },
  {
   "cell_type": "code",
   "execution_count": 13,
   "id": "48b079d6-c89f-41c2-97ae-bfb4a7336f91",
   "metadata": {},
   "outputs": [
    {
     "name": "stdout",
     "output_type": "stream",
     "text": [
      "    restaurant                                       item  calories  cal_fat  \\\n",
      "0    Mcdonalds           Artisan Grilled Chicken Sandwich       380       60   \n",
      "1    Mcdonalds             Single Bacon Smokehouse Burger       840      410   \n",
      "2    Mcdonalds             Double Bacon Smokehouse Burger      1130      600   \n",
      "3    Mcdonalds  Grilled Bacon Smokehouse Chicken Sandwich       750      280   \n",
      "4    Mcdonalds   Crispy Bacon Smokehouse Chicken Sandwich       920      410   \n",
      "..         ...                                        ...       ...      ...   \n",
      "510  Taco Bell             Spicy Triple Double Crunchwrap       780      340   \n",
      "511  Taco Bell                Express Taco Salad w/ Chips       580      260   \n",
      "512  Taco Bell                     Fiesta Taco Salad-Beef       780      380   \n",
      "513  Taco Bell                  Fiesta Taco Salad-Chicken       720      320   \n",
      "514  Taco Bell                    Fiesta Taco Salad-Steak       720      320   \n",
      "\n",
      "     total_fat  sat_fat  trans_fat  cholesterol  sodium  total_carb  fiber  \\\n",
      "0            7      2.0        0.0           95    1110          44    3.0   \n",
      "1           45     17.0        1.5          130    1580          62    2.0   \n",
      "2           67     27.0        3.0          220    1920          63    3.0   \n",
      "3           31     10.0        0.5          155    1940          62    2.0   \n",
      "4           45     12.0        0.5          120    1980          81    4.0   \n",
      "..         ...      ...        ...          ...     ...         ...    ...   \n",
      "510         38     10.0        0.5           50    1850          87    9.0   \n",
      "511         29      9.0        1.0           60    1270          59    8.0   \n",
      "512         42     10.0        1.0           60    1340          74   11.0   \n",
      "513         35      7.0        0.0           70    1260          70    8.0   \n",
      "514         36      8.0        1.0           55    1340          70    8.0   \n",
      "\n",
      "     sugar  protein  vit_a  vit_c  calcium  \n",
      "0       11     37.0    4.0   20.0     20.0  \n",
      "1       18     46.0    6.0   20.0     20.0  \n",
      "2       18     70.0   10.0   20.0     50.0  \n",
      "3       18     55.0    6.0   25.0     20.0  \n",
      "4       18     46.0    6.0   20.0     20.0  \n",
      "..     ...      ...    ...    ...      ...  \n",
      "510      8     23.0   20.0   10.0     25.0  \n",
      "511      7     23.0    NaN    NaN      NaN  \n",
      "512      7     26.0    NaN    NaN      NaN  \n",
      "513      8     32.0    NaN    NaN      NaN  \n",
      "514      8     28.0    NaN    NaN      NaN  \n",
      "\n",
      "[515 rows x 16 columns]\n"
     ]
    }
   ],
   "source": [
    "import pandas as pd\n",
    "\n",
    "filepath= \"https://docs.google.com/spreadsheets/d/1l9u33E8ZV_TFQgIGAvq-Et7d0EcPQsfY7y27IDshEH0/export?format=csv&gid=304620187\"\n",
    "df = pd.read_csv(filepath)\n",
    "\n",
    "# Remove the 'salad' column\n",
    "df = df.drop(columns=['salad'])\n",
    "\n",
    "print(df)"
   ]
  },
  {
   "cell_type": "code",
   "execution_count": 14,
   "id": "990ca3e3-3a18-41f1-93e7-1e64bdf23b8d",
   "metadata": {},
   "outputs": [
    {
     "name": "stdout",
     "output_type": "stream",
     "text": [
      "McDonald's DataFrame (using 'restaurant' column) after removing 'salad' column:\n",
      "Empty DataFrame\n",
      "Columns: [restaurant, item, calories, cal_fat, total_fat, sat_fat, trans_fat, cholesterol, sodium, total_carb, fiber, sugar, protein, vit_a, vit_c, calcium]\n",
      "Index: []\n"
     ]
    }
   ],
   "source": [
    "import pandas as pd\n",
    "\n",
    "filepath= \"https://docs.google.com/spreadsheets/d/1l9u33E8ZV_TFQgIGAvq-Et7d0EcPQsfY7y27IDshEH0/export?format=csv&gid=304620187\"\n",
    "df = pd.read_csv(filepath)\n",
    "\n",
    "\n",
    "mcdonalds_df = df[df['restaurant'] == 'McDonalds'].copy()\n",
    "chick_fil_a_df = df[df['restaurant'] == 'Chick fil-A'].copy()\n",
    "sonic_df = df[df['restaurant'] == 'Sonic'].copy()\n",
    "arbys_df = df[df['restaurant'] == 'Arbys'].copy()\n",
    "burger_king_df = df[df['restaurant'] == 'Burger King'].copy()\n",
    "dairy_queen_df = df[df['restaurant'] == 'Dairy Queen'].copy()\n",
    "subway_df = df[df['restaurant'] == 'Subway'].copy()\n",
    "taco_bell_df = df[df['restaurant'] == 'Taco Bell'].copy()\n",
    "\n",
    "\n",
    "if 'salad' in mcdonalds_df.columns:\n",
    "    mcdonalds_df.drop(columns=['salad'], inplace=True)\n",
    "if 'salad' in chick_fil_a_df.columns:\n",
    "    chick_fil_a_df.drop(columns=['salad'], inplace=True)\n",
    "if 'salad' in sonic_df.columns:\n",
    "    sonic_df.drop(columns=['salad'], inplace=True)\n",
    "if 'salad' in arbys_df.columns:\n",
    "    arbys_df.drop(columns=['salad'], inplace=True)\n",
    "if 'salad' in burger_king_df.columns:\n",
    "    burger_king_df.drop(columns=['salad'], inplace=True)\n",
    "if 'salad' in dairy_queen_df.columns:\n",
    "    dairy_queen_df.drop(columns=['salad'], inplace=True)\n",
    "if 'salad' in subway_df.columns:\n",
    "    subway_df.drop(columns=['salad'], inplace=True)\n",
    "if 'salad' in taco_bell_df.columns:\n",
    "    taco_bell_df.drop(columns=['salad'], inplace=True)\n",
    "\n",
    "\n",
    "print(\"McDonald's DataFrame (using 'restaurant' column) after removing 'salad' column:\")\n",
    "print(mcdonalds_df.head())"
   ]
  },
  {
   "cell_type": "code",
   "execution_count": 15,
   "id": "48c198c5-04a7-43dc-8066-8d3741d25b42",
   "metadata": {},
   "outputs": [
    {
     "name": "stdout",
     "output_type": "stream",
     "text": [
      "    restaurant                            item  calories  cal_fat  total_fat  \\\n",
      "400  Taco Bell  1/2 lb.* Cheesy Potato Burrito       540      230         26   \n",
      "401  Taco Bell          1/2 lb.* Combo Burrito       460      170         18   \n",
      "402  Taco Bell                 7-Layer Burrito       510      170         19   \n",
      "403  Taco Bell                    Bean Burrito       370      100         11   \n",
      "404  Taco Bell           Beefy 5-Layer Burrito       550      200         22   \n",
      "..         ...                             ...       ...      ...        ...   \n",
      "510  Taco Bell  Spicy Triple Double Crunchwrap       780      340         38   \n",
      "511  Taco Bell     Express Taco Salad w/ Chips       580      260         29   \n",
      "512  Taco Bell          Fiesta Taco Salad-Beef       780      380         42   \n",
      "513  Taco Bell       Fiesta Taco Salad-Chicken       720      320         35   \n",
      "514  Taco Bell         Fiesta Taco Salad-Steak       720      320         36   \n",
      "\n",
      "     sat_fat  trans_fat  cholesterol  sodium  total_carb  fiber  sugar  \\\n",
      "400      7.0        1.0           45    1360          59    7.0      4   \n",
      "401      7.0        1.0           45    1320          53    9.0      3   \n",
      "402      7.0        0.0           20    1090          68   11.0      4   \n",
      "403      4.0        0.0            5     960          56    9.0      3   \n",
      "404      8.0        0.0           35    1270          68    8.0      5   \n",
      "..       ...        ...          ...     ...         ...    ...    ...   \n",
      "510     10.0        0.5           50    1850          87    9.0      8   \n",
      "511      9.0        1.0           60    1270          59    8.0      7   \n",
      "512     10.0        1.0           60    1340          74   11.0      7   \n",
      "513      7.0        0.0           70    1260          70    8.0      8   \n",
      "514      8.0        1.0           55    1340          70    8.0      8   \n",
      "\n",
      "     protein  vit_a  vit_c  calcium  \n",
      "400     19.0    NaN    NaN      NaN  \n",
      "401     21.0    NaN    NaN      NaN  \n",
      "402     16.0    NaN    NaN      NaN  \n",
      "403     13.0    NaN    NaN      NaN  \n",
      "404     19.0    NaN    NaN      NaN  \n",
      "..       ...    ...    ...      ...  \n",
      "510     23.0   20.0   10.0     25.0  \n",
      "511     23.0    NaN    NaN      NaN  \n",
      "512     26.0    NaN    NaN      NaN  \n",
      "513     32.0    NaN    NaN      NaN  \n",
      "514     28.0    NaN    NaN      NaN  \n",
      "\n",
      "[115 rows x 16 columns]\n"
     ]
    }
   ],
   "source": [
    "print(taco_bell_df)\n"
   ]
  },
  {
   "cell_type": "markdown",
   "id": "763dc4e4-7fab-438b-95f4-5e062f2a9c1d",
   "metadata": {},
   "source": [
    "# 1. Which restaurant’s foods have the highest average calories across their menu?"
   ]
  },
  {
   "cell_type": "code",
   "execution_count": 21,
   "id": "df46d907-f61f-483a-af9f-6780f0ba9c79",
   "metadata": {},
   "outputs": [
    {
     "data": {
      "image/png": "[encoded data removed]",
      "text/plain": [
       "<Figure size 1000x600 with 1 Axes>"
      ]
     },
     "metadata": {},
     "output_type": "display_data"
    }
   ],
   "source": [
    "import pandas as pd\n",
    "import matplotlib.pyplot as plt\n",
    "import seaborn as sns\n",
    "average_calories = df.groupby('restaurant')['calories'].mean().reset_index()\n",
    "plt.figure(figsize=(10, 6))  \n",
    "sns.barplot(x='restaurant', y='calories', data=average_calories)\n",
    "plt.title('Average Calories per Restaurant')\n",
    "plt.xlabel('Restaurant')\n",
    "plt.ylabel('Average Calories')\n",
    "plt.xticks(rotation=45, ha='right') \n",
    "plt.tight_layout()  \n",
    "plt.show()"
   ]
  },
  {
   "cell_type": "markdown",
   "id": "d3317fd3-5268-433a-8774-39dcd71bc050",
   "metadata": {},
   "source": [
    "This shows that Mcdonalds is the #1 Restaurant with the highest average caloric intake per menu item. Mcdonalds is followed shortly by Sonic and then Burger King."
   ]
  },
  {
   "cell_type": "markdown",
   "id": "04ba4cde-bf3e-441e-819f-d85f2a83c488",
   "metadata": {},
   "source": [
    "# 2. What food across all restaurants has the highest amount of protein with the least amount of calories? "
   ]
  },
  {
   "cell_type": "code",
   "execution_count": 27,
   "id": "acc1f001-3d3b-4997-bdbd-6d03c7b96c5f",
   "metadata": {},
   "outputs": [
    {
     "name": "stdout",
     "output_type": "stream",
     "text": [
      "Food with highest protein-to-calorie ratio: Ultimate Chicken Club, Protein: 39.0, Calories: 100, Restaurant: Sonic, Protein-to-Calorie Ratio: 0.39\n"
     ]
    }
   ],
   "source": [
    "highest_protein_food = df.loc[df['protein'].idxmax()]\n",
    "lowest_calories_food = df.loc[df['calories'].idxmin()]\n",
    "\n",
    "df['protein_calorie_ratio'] = df['protein'] / df['calories']\n",
    "\n",
    "highest_protein_calorie_ratio_food = df.loc[df['protein_calorie_ratio'].idxmax()]\n",
    "print(f\"Food with highest protein-to-calorie ratio: {highest_protein_calorie_ratio_food['item']}, Protein: {highest_protein_calorie_ratio_food['protein']}, Calories: {highest_protein_calorie_ratio_food['calories']}, Restaurant: {highest_protein_calorie_ratio_food['restaurant']}, Protein-to-Calorie Ratio: {highest_protein_calorie_ratio_food['protein_calorie_ratio']:.2f}\")\n"
   ]
  },
  {
   "cell_type": "markdown",
   "id": "2ef07992-d54e-4597-9985-0a0edbe28675",
   "metadata": {},
   "source": [
    "This calculation shows that the Ultimate Chicken Club from Sonic has the highest protein per calorie ratio out of all the food items in all of the restaurants, at .39 grams of protein per calorie."
   ]
  },
  {
   "cell_type": "markdown",
   "id": "ba8a1584-b37e-4575-ad28-1656986c0c6c",
   "metadata": {},
   "source": [
    "# 3. Which chicken items have the least amount of total fat per calorie across all restaurants? "
   ]
  },
  {
   "cell_type": "markdown",
   "id": "a0281c9a-3714-45ff-b9fc-f4bde02f83e6",
   "metadata": {},
   "source": [
    "Question 3 was changed from \"Which chicken items have the least amount of total fat across all restaurants?\" to \"Which chicken items have the least amount of total fat per calorie across all restaurants?\". This gives a better understanding, instead of simply looking at the smallest food that has the least amount of calories, with low fat, it takes into consideration the calories consumed and the total fat associated with that."
   ]
  },
  {
   "cell_type": "code",
   "execution_count": 31,
   "id": "3de25649-8225-4090-aba6-5e0a6fb6bdf0",
   "metadata": {},
   "outputs": [
    {
     "name": "stdout",
     "output_type": "stream",
     "text": [
      "Chicken item with the least amount of total fat per calorie: 6\" Sweet Onion Chicken Teriyaki, Total Fat: 5, Calories: 380, Restaurant: Subway, Fat-per-Calorie Ratio: 0.01\n"
     ]
    },
    {
     "name": "stderr",
     "output_type": "stream",
     "text": [
      "C:\\Users\\Ryan\\AppData\\Local\\Temp\\ipykernel_28064\\347518121.py:3: SettingWithCopyWarning: \n",
      "A value is trying to be set on a copy of a slice from a DataFrame.\n",
      "Try using .loc[row_indexer,col_indexer] = value instead\n",
      "\n",
      "See the caveats in the documentation: https://pandas.pydata.org/pandas-docs/stable/user_guide/indexing.html#returning-a-view-versus-a-copy\n",
      "  chicken_items['fat_per_calorie_ratio'] = chicken_items['total_fat'] / chicken_items['calories']\n"
     ]
    }
   ],
   "source": [
    "chicken_items = df[df['item'].str.contains('chicken', case=False, na=False)]\n",
    "\n",
    "chicken_items['fat_per_calorie_ratio'] = chicken_items['total_fat'] / chicken_items['calories']\n",
    "\n",
    "least_fat_per_calorie_chicken_item = chicken_items.loc[chicken_items['fat_per_calorie_ratio'].idxmin()]\n",
    "\n",
    "print(f\"Chicken item with the least amount of total fat per calorie: {least_fat_per_calorie_chicken_item['item']}, Total Fat: {least_fat_per_calorie_chicken_item['total_fat']}, Calories: {least_fat_per_calorie_chicken_item['calories']}, Restaurant: {least_fat_per_calorie_chicken_item['restaurant']}, Fat-per-Calorie Ratio: {least_fat_per_calorie_chicken_item['fat_per_calorie_ratio']:.2f}\")"
   ]
  },
  {
   "cell_type": "markdown",
   "id": "d70b5371-b2d7-466e-8125-0ba67e036312",
   "metadata": {},
   "source": [
    "After only looking at chicken items across the restaurants, we can see that the '6\" Sweet Onion Chicken Teriyaki' from Subway has the lowest amount of total fat per calorie ratio, that of 0.01 grams of total fat per calorie."
   ]
  },
  {
   "cell_type": "markdown",
   "id": "e7974a3b-1973-4556-a637-8a12a4b23989",
   "metadata": {},
   "source": [
    "# 4. What is the average nuetritional value of each restaurant?"
   ]
  },
  {
   "cell_type": "code",
   "execution_count": 36,
   "id": "0aa06beb-1d84-470b-858e-7ed516e35b2a",
   "metadata": {},
   "outputs": [
    {
     "name": "stdout",
     "output_type": "stream",
     "text": [
      "Average Nutritional Values per Restaurant:\n",
      "            calories cal_fat total_fat sat_fat trans_fat cholesterol   sodium  \\\n",
      "restaurant                                                                      \n",
      "Arbys         532.73  237.84     26.98    7.97      0.42       70.45  1515.27   \n",
      "Burger King   608.57  333.76     36.81   11.15      0.86      100.86  1223.57   \n",
      "Chick Fil-A   384.44  145.37     16.15    4.11      0.04       79.07  1151.48   \n",
      "Dairy Queen   520.24  260.48     28.86   10.44      0.68       71.55  1181.79   \n",
      "Mcdonalds     640.35  285.61     31.81    8.29      0.46      109.74  1437.89   \n",
      "Sonic         631.70  338.30     37.64   11.42      0.93       86.98  1350.75   \n",
      "Subway        503.02  165.10     18.48    6.20      0.22       61.30  1272.97   \n",
      "Taco Bell     443.65  188.00     20.90    6.59      0.26       39.04  1013.91   \n",
      "\n",
      "            total_carb fiber  sugar protein  vit_a  vit_c calcium  \n",
      "restaurant                                                         \n",
      "Arbys            44.87  2.71   7.56   29.25  12.56   8.40   17.36  \n",
      "Burger King      39.31  2.38   8.19   30.01    nan    nan     nan  \n",
      "Chick Fil-A      28.63  2.32   4.15   31.70  12.62  14.08   11.32  \n",
      "Dairy Queen      38.69  2.83   6.36   24.83  14.00   4.37   16.41  \n",
      "Mcdonalds        48.79  3.23  11.07   40.30  33.72  18.30   20.60  \n",
      "Sonic            47.21  2.66   6.53   29.19   6.94   5.76   17.24  \n",
      "Subway           54.72  6.56  10.09   30.31  22.39  41.97   39.12  \n",
      "Taco Bell        46.63  5.71   3.70   17.42  11.85   4.54   24.81  \n"
     ]
    }
   ],
   "source": [
    "nutritional_columns = ['calories', 'cal_fat', 'total_fat', 'sat_fat', 'trans_fat', 'cholesterol', 'sodium', 'total_carb', 'fiber', 'sugar', 'protein', 'vit_a', 'vit_c', 'calcium']\n",
    "\n",
    "# Group by restaurant and calculate the mean for each nutritional column\n",
    "average_nutrition_per_restaurant = df.groupby('restaurant')[nutritional_columns].mean()\n",
    "\n",
    "# Format the output to 2 decimal places\n",
    "formatted_average_nutrition = average_nutrition_per_restaurant.apply(lambda x: x.map(lambda y: f\"{y:.2f}\"))\n",
    "\n",
    "# Print the result\n",
    "print(\"Average Nutritional Values per Restaurant:\")\n",
    "print(formatted_average_nutrition)\n"
   ]
  },
  {
   "cell_type": "markdown",
   "id": "0ed729bc-1465-412f-b8fb-8703d9fcedc3",
   "metadata": {},
   "source": [
    "This chart shows the average nutritional value from each item on the menu of each restaurant."
   ]
  },
  {
   "cell_type": "markdown",
   "id": "c4c4a06c-52e9-4889-978d-76ae82d23d2b",
   "metadata": {},
   "source": [
    "# 5. Which restaurant has the healthiest burger? (Healthy being low fat, chroesterol, and sodium with high amounts of protein) "
   ]
  },
  {
   "cell_type": "code",
   "execution_count": 40,
   "id": "592f805a-72ec-4084-ad35-d7f7feb71a5e",
   "metadata": {},
   "outputs": [
    {
     "name": "stdout",
     "output_type": "stream",
     "text": [
      "\n",
      "Healthiest Burger: Rodeo Burger from Burger King\n",
      "  Total Fat: 13.00\n",
      "  Cholesterol: 25.00\n",
      "  Sodium: 450.00\n",
      "  Protein: 9.00\n"
     ]
    },
    {
     "name": "stderr",
     "output_type": "stream",
     "text": [
      "C:\\Users\\Ryan\\AppData\\Local\\Temp\\ipykernel_28064\\1873200444.py:4: SettingWithCopyWarning: \n",
      "A value is trying to be set on a copy of a slice from a DataFrame.\n",
      "Try using .loc[row_indexer,col_indexer] = value instead\n",
      "\n",
      "See the caveats in the documentation: https://pandas.pydata.org/pandas-docs/stable/user_guide/indexing.html#returning-a-view-versus-a-copy\n",
      "  burger_items['health_score'] = (\n"
     ]
    }
   ],
   "source": [
    "burger_items = df[df['item'].str.contains('burger', case=False, na=False)]\n",
    "\n",
    "# Calculate a health score (lower is healthier)\n",
    "burger_items['health_score'] = (\n",
    "    burger_items['total_fat'] +\n",
    "    burger_items['cholesterol'] +\n",
    "    burger_items['sodium'] -\n",
    "    burger_items['protein'])\n",
    "\n",
    "# Find the burger with the lowest health score\n",
    "healthiest_burger = burger_items.loc[burger_items['health_score'].idxmin()]\n",
    "print(f\"\\nHealthiest Burger: {healthiest_burger['item']} from {healthiest_burger['restaurant']}\")\n",
    "print(f\"  Total Fat: {healthiest_burger['total_fat']:.2f}\")\n",
    "print(f\"  Cholesterol: {healthiest_burger['cholesterol']:.2f}\")\n",
    "print(f\"  Sodium: {healthiest_burger['sodium']:.2f}\")\n",
    "print(f\"  Protein: {healthiest_burger['protein']:.2f}\")"
   ]
  },
  {
   "cell_type": "markdown",
   "id": "4c50c19f-006f-4aa2-a6b2-041f61573a03",
   "metadata": {},
   "source": [
    "After creating a new variable named \"health_score\" we can see that the Rodeo Burger from Burger King is the \"healthiest\" burger across all restaurants. This burger has the lowest total fat, cholesterol, and sodium per protein across all burgers from these restaurants."
   ]
  },
  {
   "cell_type": "code",
   "execution_count": null,
   "id": "861d29ec-cf9d-42b9-affa-8aaa03884c34",
   "metadata": {},
   "outputs": [],
   "source": []
  }
 ],
 "metadata": {
  "kernelspec": {
   "display_name": "Python 3 (ipykernel)",
   "language": "python",
   "name": "python3"
  },
  "language_info": {
   "codemirror_mode": {
    "name": "ipython",
    "version": 3
   },
   "file_extension": ".py",
   "mimetype": "text/x-python",
   "name": "python",
   "nbconvert_exporter": "python",
   "pygments_lexer": "ipython3",
   "version": "3.13.3"
  }
 },
 "nbformat": 4,
 "nbformat_minor": 5
}
